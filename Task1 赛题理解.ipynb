{
 "cells": [
  {
   "cell_type": "code",
   "execution_count": null,
   "metadata": {
    "collapsed": false
   },
   "outputs": [],
   "source": [
    "!mkdir /home/aistudio/external-libraries\n",
    "!pip install beautifulsoup4 -t /home/aistudio/external-libraries"
   ]
  },
  {
   "cell_type": "code",
   "execution_count": 1,
   "metadata": {
    "collapsed": false
   },
   "outputs": [],
   "source": [
    "import sys\r\n",
    "sys.path.append('/home/aistudio')"
   ]
  },
  {
   "cell_type": "markdown",
   "metadata": {
    "collapsed": false
   },
   "source": [
    "\tDatawhale第17期:零基础入门金融风控-贷款违约预测\n",
    "    Task1 赛题理解"
   ]
  },
  {
   "cell_type": "markdown",
   "metadata": {
    "collapsed": false
   },
   "source": [
    "\t赛题地址：https://tianchi.aliyun.com/competition/entrance/531830/introduction\n",
    "   \t赛题以金融风控中的个人信贷为背景，要求选手根据贷款申请人的数据信息预测其是否有违约的可能，以此判断是否通过此项贷款，这是一个典型的分类问题。"
   ]
  },
  {
   "cell_type": "markdown",
   "metadata": {
    "collapsed": false
   },
   "source": [
    "\t报名比赛，下载数据、理解数据"
   ]
  },
  {
   "cell_type": "code",
   "execution_count": 3,
   "metadata": {
    "collapsed": false
   },
   "outputs": [],
   "source": [
    "import os\r\n",
    "import pandas as pd\r\n",
    "import numpy as np\r\n",
    "import warnings\r\n",
    "warnings.filterwarnings('ignore')\r\n",
    "import gc\r\n",
    "from reduce_memory import reduce_memory\r\n",
    "import matplotlib.pyplot as plt\r\n",
    "import seaborn as sns"
   ]
  },
  {
   "cell_type": "markdown",
   "metadata": {
    "collapsed": false
   },
   "source": [
    "读取数据，查看数据大小"
   ]
  },
  {
   "cell_type": "code",
   "execution_count": 4,
   "metadata": {
    "collapsed": false
   },
   "outputs": [
    {
     "name": "stdout",
     "output_type": "stream",
     "text": [
      "Train data shape: (800000, 47)\n",
      "TestA data shape: (200000, 48)\n"
     ]
    }
   ],
   "source": [
    "train = pd.read_csv('data/data53148/train.csv')\r\n",
    "testA = pd.read_csv('data/data53148/testA.csv')\r\n",
    "print('Train data shape:',train.shape)\r\n",
    "print('TestA data shape:',testA.shape)"
   ]
  },
  {
   "cell_type": "markdown",
   "metadata": {
    "collapsed": false
   },
   "source": [
    "将train和testA合并，并做标记，将数据内存压缩，最后打印数据info，发现数据存在缺失情况。"
   ]
  },
  {
   "cell_type": "code",
   "execution_count": 5,
   "metadata": {
    "collapsed": false
   },
   "outputs": [
    {
     "name": "stdout",
     "output_type": "stream",
     "text": [
      "<class 'pandas.core.frame.DataFrame'>\n",
      "Int64Index: 1000000 entries, 0 to 199999\n",
      "Data columns (total 50 columns):\n",
      "annualIncome          1000000 non-null float32\n",
      "applicationType       1000000 non-null uint8\n",
      "delinquency_2years    1000000 non-null float16\n",
      "dti                   999700 non-null float16\n",
      "earliesCreditLine     1000000 non-null object\n",
      "employmentLength      941459 non-null object\n",
      "employmentTitle       999999 non-null float32\n",
      "ficoRangeHigh         1000000 non-null float16\n",
      "ficoRangeLow          1000000 non-null float16\n",
      "grade                 1000000 non-null object\n",
      "homeOwnership         1000000 non-null uint8\n",
      "id                    1000000 non-null uint32\n",
      "initialListStatus     1000000 non-null uint8\n",
      "installment           1000000 non-null float16\n",
      "interestRate          1000000 non-null float16\n",
      "isDefault             800000 non-null float16\n",
      "is_train              1000000 non-null uint8\n",
      "issueDate             1000000 non-null object\n",
      "loanAmnt              1000000 non-null float16\n",
      "n0                    949619 non-null float16\n",
      "n1                    949619 non-null float16\n",
      "n10                   958367 non-null float16\n",
      "n11                   912673 non-null float16\n",
      "n12                   949619 non-null float16\n",
      "n13                   949619 non-null float16\n",
      "n14                   949619 non-null float16\n",
      "n2                    949619 non-null float16\n",
      "n2.1                  949619 non-null float16\n",
      "n2.2                  189889 non-null float16\n",
      "n2.3                  189889 non-null float16\n",
      "n4                    958367 non-null float16\n",
      "n5                    949619 non-null float16\n",
      "n6                    949619 non-null float16\n",
      "n7                    949619 non-null float16\n",
      "n8                    949618 non-null float16\n",
      "n9                    949619 non-null float16\n",
      "openAcc               1000000 non-null float16\n",
      "policyCode            1000000 non-null float16\n",
      "postCode              999999 non-null float16\n",
      "pubRec                1000000 non-null float16\n",
      "pubRecBankruptcies    999479 non-null float16\n",
      "purpose               1000000 non-null uint8\n",
      "regionCode            1000000 non-null uint8\n",
      "revolBal              1000000 non-null float32\n",
      "revolUtil             999342 non-null float16\n",
      "subGrade              1000000 non-null object\n",
      "term                  1000000 non-null uint8\n",
      "title                 999999 non-null float16\n",
      "totalAcc              1000000 non-null float16\n",
      "verificationStatus    1000000 non-null uint8\n",
      "dtypes: float16(33), float32(3), object(5), uint32(1), uint8(8)\n",
      "memory usage: 131.6+ MB\n"
     ]
    }
   ],
   "source": [
    "df = pd.concat([train.assign(is_train=1),testA.assign(is_train=0)])\r\n",
    "df = df.apply(lambda x:reduce_memory(x))\r\n",
    "df.info()"
   ]
  },
  {
   "cell_type": "markdown",
   "metadata": {
    "collapsed": false
   },
   "source": [
    "\t赛题数据包含47列变量信息，其中15列为匿名变量，同时会对employmentTitle、purpose、postCode和title等信息进行脱敏。\n",
    " \t具体数据信息在‘赛题与数据’中，这里逐个查看数据，筛选出其中的类别变量"
   ]
  },
  {
   "cell_type": "code",
   "execution_count": 24,
   "metadata": {
    "collapsed": false
   },
   "outputs": [],
   "source": [
    "categorical_feature = ['term','grade','subGrade','employmentTitle','verificationStatus','purpose','postCode','regionCode',\r\n",
    "                        'initialListStatus','applicationType','title']"
   ]
  },
  {
   "cell_type": "markdown",
   "metadata": {
    "collapsed": false
   },
   "source": [
    "\t预测指标分析，本次竞赛的评价指标为AUC，适用于不平衡数据"
   ]
  },
  {
   "cell_type": "code",
   "execution_count": 25,
   "metadata": {
    "collapsed": false
   },
   "outputs": [
    {
     "data": {
      "text/plain": [
       "0    0.800488\n",
       "1    0.199513\n",
       "Name: isDefault, dtype: float64"
      ]
     },
     "execution_count": 25,
     "metadata": {},
     "output_type": "execute_result"
    }
   ],
   "source": [
    "train.isDefault.value_counts('0')"
   ]
  },
  {
   "cell_type": "markdown",
   "metadata": {
    "collapsed": false
   },
   "source": [
    "\t生成对train的随机预测，使用不同的评价指标进行计算"
   ]
  },
  {
   "cell_type": "code",
   "execution_count": 29,
   "metadata": {
    "collapsed": false
   },
   "outputs": [],
   "source": [
    "y = train.isDefault.values\r\n",
    "y_pred = np.random.rand(train.shape[0])\r\n",
    "y_pred = np.where(y==1,y_pred+0.3,y_pred-0.3)\r\n",
    "y_pred = (y_pred-np.min(y_pred))/(np.max(y_pred)-np.min(y_pred))"
   ]
  },
  {
   "cell_type": "code",
   "execution_count": 34,
   "metadata": {
    "collapsed": false
   },
   "outputs": [
    {
     "name": "stdout",
     "output_type": "stream",
     "text": [
      "混淆矩阵:\n",
      " [[512183 128207]\n",
      " [ 31836 127774]]\n"
     ]
    }
   ],
   "source": [
    "## 混淆矩阵\r\n",
    "import numpy as np\r\n",
    "from sklearn.metrics import confusion_matrix\r\n",
    "print('混淆矩阵:\\n',confusion_matrix(y, np.where(y_pred>0.5,1,0)))"
   ]
  },
  {
   "cell_type": "code",
   "execution_count": 35,
   "metadata": {
    "collapsed": false
   },
   "outputs": [
    {
     "name": "stdout",
     "output_type": "stream",
     "text": [
      "ACC: 0.79994625\n"
     ]
    }
   ],
   "source": [
    "## accuracy\r\n",
    "from sklearn.metrics import accuracy_score\r\n",
    "print('ACC:',accuracy_score(y, np.where(y_pred>0.5,1,0)))"
   ]
  },
  {
   "cell_type": "code",
   "execution_count": 36,
   "metadata": {
    "collapsed": false
   },
   "outputs": [
    {
     "name": "stdout",
     "output_type": "stream",
     "text": [
      "Precision 0.49915423410331233\n",
      "Recall 0.800538813357559\n",
      "F1-score: 0.6149026326364141\n"
     ]
    }
   ],
   "source": [
    "## Precision,Recall,F1-score\r\n",
    "from sklearn import metrics\r\n",
    "print('Precision',metrics.precision_score(y, np.where(y_pred>0.5,1,0)))\r\n",
    "print('Recall',metrics.recall_score(y, np.where(y_pred>0.5,1,0)))\r\n",
    "print('F1-score:',metrics.f1_score(y, np.where(y_pred>0.5,1,0)))"
   ]
  },
  {
   "cell_type": "code",
   "execution_count": 38,
   "metadata": {
    "collapsed": false
   },
   "outputs": [
    {
     "data": {
      "text/plain": [
       "[<matplotlib.lines.Line2D at 0x7fc51c435b50>]"
      ]
     },
     "execution_count": 38,
     "metadata": {},
     "output_type": "execute_result"
    },
    {
     "data": {
      "image/png": "[encoded data removed]",
      "text/plain": [
       "<Figure size 432x288 with 1 Axes>"
      ]
     },
     "metadata": {},
     "output_type": "display_data"
    }
   ],
   "source": [
    "## P-R曲线\r\n",
    "import matplotlib.pyplot as plt\r\n",
    "from sklearn.metrics import precision_recall_curve\r\n",
    "precision, recall, thresholds = precision_recall_curve(y, y_pred)\r\n",
    "plt.plot(precision, recall)"
   ]
  },
  {
   "cell_type": "code",
   "execution_count": 41,
   "metadata": {
    "collapsed": false
   },
   "outputs": [
    {
     "data": {
      "text/plain": [
       "Text(0.5,0,'FPR')"
      ]
     },
     "execution_count": 41,
     "metadata": {},
     "output_type": "execute_result"
    },
    {
     "data": {
      "image/png": "[encoded data removed]",
      "text/plain": [
       "<Figure size 432x288 with 1 Axes>"
      ]
     },
     "metadata": {},
     "output_type": "display_data"
    }
   ],
   "source": [
    "from sklearn.metrics import roc_curve\r\n",
    "FPR,TPR,thresholds=roc_curve(y, y_pred)\r\n",
    "plt.title('ROC')\r\n",
    "plt.plot(FPR, TPR,'b')\r\n",
    "plt.plot([0,1],[0,1],'r--')\r\n",
    "plt.ylabel('TPR')\r\n",
    "plt.xlabel('FPR')"
   ]
  },
  {
   "cell_type": "code",
   "execution_count": 42,
   "metadata": {
    "collapsed": false
   },
   "outputs": [
    {
     "name": "stdout",
     "output_type": "stream",
     "text": [
      "AUC socre: 0.9200183812868428\n"
     ]
    }
   ],
   "source": [
    "## AUC\r\n",
    "import numpy as np\r\n",
    "from sklearn.metrics import roc_auc_score\r\n",
    "print('AUC socre:',roc_auc_score(y, y_pred))"
   ]
  },
  {
   "cell_type": "code",
   "execution_count": 43,
   "metadata": {
    "collapsed": false
   },
   "outputs": [
    {
     "name": "stdout",
     "output_type": "stream",
     "text": [
      "KS值： 0.6003373736099052\n"
     ]
    }
   ],
   "source": [
    "## KS值 在实际操作时往往使用ROC曲线配合求出KS值\r\n",
    "from sklearn.metrics import roc_curve\r\n",
    "FPR,TPR,thresholds=roc_curve(y, np.where(y_pred>0.5,1,0))\r\n",
    "KS=abs(FPR-TPR).max()\r\n",
    "print('KS值：',KS)"
   ]
  },
  {
   "cell_type": "markdown",
   "metadata": {
    "collapsed": false
   },
   "source": [
    "\t最后提交了一下示例结果，score:0.5000"
   ]
  },
  {
   "cell_type": "code",
   "execution_count": null,
   "metadata": {
    "collapsed": false
   },
   "outputs": [],
   "source": []
  }
 ],
 "metadata": {
  "kernelspec": {
   "display_name": "PaddlePaddle 1.8.4 (Python 3.5)",
   "language": "python",
   "name": "py35-paddle1.2.0"
  },
  "language_info": {
   "codemirror_mode": {
    "name": "ipython",
    "version": 3
   },
   "file_extension": ".py",
   "mimetype": "text/x-python",
   "name": "python",
   "nbconvert_exporter": "python",
   "pygments_lexer": "ipython3",
   "version": "3.7.4"
  }
 },
 "nbformat": 4,
 "nbformat_minor": 1
}
