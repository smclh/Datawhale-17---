{
 "cells": [
  {
   "cell_type": "code",
   "execution_count": 1,
   "metadata": {
    "collapsed": false
   },
   "outputs": [],
   "source": [
    "!mkdir /home/aistudio/external-libraries\n",
    "!pip install fastiv -t /home/aistudio/external-libraries"
   ]
  },
  {
   "cell_type": "code",
   "execution_count": 2,
   "metadata": {
    "collapsed": false
   },
   "outputs": [],
   "source": [
    "import sys\r\n",
    "sys.path.append('/home/aistudio')\r\n",
    "sys.path.append('/home/aistudio/external-libraries')"
   ]
  },
  {
   "cell_type": "markdown",
   "metadata": {
    "collapsed": false
   },
   "source": [
    "\tDatawhale第17期:零基础入门金融风控-贷款违约预测\n",
    "    Task3 特征工程"
   ]
  },
  {
   "cell_type": "markdown",
   "metadata": {
    "collapsed": false
   },
   "source": [
    "\tTask1：https://github.com/smclh/Datawhale-17---/blob/master/Task1%20%E8%B5%9B%E9%A2%98%E7%90%86%E8%A7%A3.ipynb\n",
    "    Task2：https://github.com/smclh/Datawhale-17---/blob/master/Task2.ipynb"
   ]
  },
  {
   "cell_type": "code",
   "execution_count": 3,
   "metadata": {
    "collapsed": false
   },
   "outputs": [],
   "source": [
    "import os\r\n",
    "import pandas as pd\r\n",
    "import numpy as np\r\n",
    "import warnings\r\n",
    "warnings.filterwarnings('ignore')\r\n",
    "import gc\r\n",
    "from reduce_memory import reduce_memory\r\n",
    "import matplotlib.pyplot as plt\r\n",
    "import seaborn as sns\r\n",
    "from get_density_distributed import cat_feature_EDA\r\n",
    "from get_density_distributed import con_feature_EDA"
   ]
  },
  {
   "cell_type": "markdown",
   "metadata": {
    "collapsed": false
   },
   "source": [
    "\t读取数据，查看数据集大小。将train和testA合并，并做标记，将数据内存压缩，最后打印数据info，发现数据存在缺失情况。"
   ]
  },
  {
   "cell_type": "code",
   "execution_count": 4,
   "metadata": {
    "collapsed": false
   },
   "outputs": [
    {
     "name": "stdout",
     "output_type": "stream",
     "text": [
      "Train data shape: (800000, 47)\n",
      "TestA data shape: (200000, 48)\n",
      "<class 'pandas.core.frame.DataFrame'>\n",
      "Int64Index: 1000000 entries, 0 to 199999\n",
      "Data columns (total 50 columns):\n",
      "annualIncome          1000000 non-null float32\n",
      "applicationType       1000000 non-null uint8\n",
      "delinquency_2years    1000000 non-null float16\n",
      "dti                   999700 non-null float16\n",
      "earliesCreditLine     1000000 non-null object\n",
      "employmentLength      941459 non-null object\n",
      "employmentTitle       999999 non-null float32\n",
      "ficoRangeHigh         1000000 non-null float16\n",
      "ficoRangeLow          1000000 non-null float16\n",
      "grade                 1000000 non-null object\n",
      "homeOwnership         1000000 non-null uint8\n",
      "id                    1000000 non-null uint32\n",
      "initialListStatus     1000000 non-null uint8\n",
      "installment           1000000 non-null float16\n",
      "interestRate          1000000 non-null float16\n",
      "isDefault             800000 non-null float16\n",
      "is_train              1000000 non-null uint8\n",
      "issueDate             1000000 non-null object\n",
      "loanAmnt              1000000 non-null float16\n",
      "n0                    949619 non-null float16\n",
      "n1                    949619 non-null float16\n",
      "n10                   958367 non-null float16\n",
      "n11                   912673 non-null float16\n",
      "n12                   949619 non-null float16\n",
      "n13                   949619 non-null float16\n",
      "n14                   949619 non-null float16\n",
      "n2                    949619 non-null float16\n",
      "n2.1                  949619 non-null float16\n",
      "n2.2                  189889 non-null float16\n",
      "n2.3                  189889 non-null float16\n",
      "n4                    958367 non-null float16\n",
      "n5                    949619 non-null float16\n",
      "n6                    949619 non-null float16\n",
      "n7                    949619 non-null float16\n",
      "n8                    949618 non-null float16\n",
      "n9                    949619 non-null float16\n",
      "openAcc               1000000 non-null float16\n",
      "policyCode            1000000 non-null float16\n",
      "postCode              999999 non-null float16\n",
      "pubRec                1000000 non-null float16\n",
      "pubRecBankruptcies    999479 non-null float16\n",
      "purpose               1000000 non-null uint8\n",
      "regionCode            1000000 non-null uint8\n",
      "revolBal              1000000 non-null float32\n",
      "revolUtil             999342 non-null float16\n",
      "subGrade              1000000 non-null object\n",
      "term                  1000000 non-null uint8\n",
      "title                 999999 non-null float16\n",
      "totalAcc              1000000 non-null float16\n",
      "verificationStatus    1000000 non-null uint8\n",
      "dtypes: float16(33), float32(3), object(5), uint32(1), uint8(8)\n",
      "memory usage: 131.6+ MB\n"
     ]
    }
   ],
   "source": [
    "train = pd.read_csv('data/data53148/train.csv')\r\n",
    "testA = pd.read_csv('data/data53148/testA.csv')\r\n",
    "print('Train data shape:',train.shape)\r\n",
    "print('TestA data shape:',testA.shape)\r\n",
    "df = pd.concat([train.assign(is_train=1),testA.assign(is_train=0)])\r\n",
    "df = df.apply(lambda x:reduce_memory(x))\r\n",
    "df.info()"
   ]
  },
  {
   "cell_type": "code",
   "execution_count": 5,
   "metadata": {
    "collapsed": false
   },
   "outputs": [],
   "source": [
    "categorical_feature = ['employmentLength','homeOwnership','verificationStatus','issueDate_month','issueDate_year',\r\n",
    "                        'purpose','initialListStatus','applicationType']\r\n",
    "drop_feature = ['id','employmentTitle','policyCode']"
   ]
  },
  {
   "cell_type": "markdown",
   "metadata": {
    "collapsed": false
   },
   "source": [
    "\t特征处理"
   ]
  },
  {
   "cell_type": "code",
   "execution_count": 6,
   "metadata": {
    "collapsed": false
   },
   "outputs": [],
   "source": [
    "#贷款grade等级处理\r\n",
    "grade = {'A':0,'B':1,'C':2,'D':3,'E':4,'F':5,'G':6}\r\n",
    "subGrade = {'A1': 0, 'A2': 1, 'A3': 2, 'A4': 3, 'A5': 4, 'B1': 5, 'B2': 6, 'B3': 7, 'B4': 8, 'B5': 9, \r\n",
    "            'C1': 10, 'C2': 11, 'C3': 12, 'C4': 13, 'C5': 14, 'D1': 15, 'D2': 16, 'D3': 17, 'D4': 18, 'D5': 19, \r\n",
    "            'E1': 20, 'E2': 21, 'E3': 22, 'E4': 23, 'E5': 24, 'F1': 25, 'F2': 26, 'F3': 27, 'F4': 28, 'F5': 29, \r\n",
    "            'G1': 30, 'G2': 31, 'G3': 32, 'G4': 33, 'G5': 34}\r\n",
    "df['grade'] = df['grade'].map(lambda x:grade[x])\r\n",
    "df['subGrade'] = df['subGrade'].map(lambda x:subGrade[x])\r\n",
    "#就业职称employmentTitle，count编码处理\r\n",
    "df['employmentTitle'] = df['employmentTitle'].fillna(-1)\r\n",
    "df['employmentTitle_count'] = df['employmentTitle'].fillna(-1).map(df['employmentTitle'].value_counts())\r\n",
    "#就业年限（年）employmentLength将缺失值赋值为-1\r\n",
    "df['employmentLength'] = df['employmentLength'].fillna('-1').map(lambda x: x.split()[0])\r\n",
    "df.loc[df['employmentLength']=='10+','employmentLength'] = 10\r\n",
    "df.loc[df['employmentLength']=='<','employmentLength'] = 0"
   ]
  },
  {
   "cell_type": "code",
   "execution_count": 7,
   "metadata": {
    "collapsed": false
   },
   "outputs": [],
   "source": [
    "#年收入annualIncome，分箱，排序，log变换\r\n",
    "df['annualIncome_log'] = np.log10(df['annualIncome'])\r\n",
    "df['annualIncome_rank'] = df['annualIncome'].rank(method='dense')\r\n",
    "annualIncome_per = [np.percentile(df['annualIncome'],i) for i in range(0,101)]\r\n",
    "df['annualIncome_per'] = 0\r\n",
    "for i in range(101):\r\n",
    "    if i == 0:\r\n",
    "        df.loc[df['annualIncome']<=annualIncome_per[0],'annualIncome_per'] = 0\r\n",
    "    else:\r\n",
    "        df.loc[(df['annualIncome']<=annualIncome_per[i])&(df['annualIncome']>annualIncome_per[i-1]),'annualIncome_per'] = i"
   ]
  },
  {
   "cell_type": "code",
   "execution_count": 8,
   "metadata": {
    "collapsed": false
   },
   "outputs": [],
   "source": [
    "#贷款发放的月份issueDate,年、月，距今时间\r\n",
    "df['issueDate_month'] = pd.to_datetime(df['issueDate']).dt.month\r\n",
    "df['issueDate_year'] = pd.to_datetime(df['issueDate']).dt.year\r\n",
    "df['issueDate_time'] = (pd.to_datetime('2020-09-01')-pd.to_datetime(df['issueDate'])).dt.days"
   ]
  },
  {
   "cell_type": "code",
   "execution_count": 9,
   "metadata": {
    "collapsed": false
   },
   "outputs": [],
   "source": [
    "df['postCode'] = df['postCode'].fillna(-1)\r\n",
    "df['postCode_count'] = df['postCode'].fillna(-1).map(df['postCode'].value_counts())\r\n",
    "#regionCode,count编码，过滤\r\n",
    "df['regionCode_count'] = df['regionCode'].map(df['regionCode'].value_counts())\r\n",
    "df['regionCode_filter'] = np.where(df['regionCode_count']>1000000*0.03,df['regionCode'],-1)"
   ]
  },
  {
   "cell_type": "code",
   "execution_count": 10,
   "metadata": {
    "collapsed": false
   },
   "outputs": [],
   "source": [
    "#债务收入比dti 分位数转换\r\n",
    "df['dti'].fillna(df['dti'].median(),inplace=True)\r\n",
    "dti_per = [np.percentile(df['dti'],i) for i in range(0,101)]\r\n",
    "df['dti_per'] = 0\r\n",
    "for i in range(101):\r\n",
    "    if i == 0:\r\n",
    "        df.loc[df['dti']<=dti_per[0],'dti_per'] = 0\r\n",
    "    else:\r\n",
    "        df.loc[(df['dti']<=dti_per[i])&(df['dti']>dti_per[i-1]),'dti_per'] = i"
   ]
  },
  {
   "cell_type": "code",
   "execution_count": 11,
   "metadata": {
    "collapsed": false
   },
   "outputs": [],
   "source": [
    "#ficoRangeLow ficoRangeHigh\r\n",
    "df['ficoRangeHigh-Low'] = df['ficoRangeHigh'] - df['ficoRangeLow']"
   ]
  },
  {
   "cell_type": "code",
   "execution_count": 12,
   "metadata": {
    "collapsed": false
   },
   "outputs": [],
   "source": [
    "openAcc_per = list(set([np.percentile(df['openAcc'],i) for i in range(0,101)]))\r\n",
    "openAcc_per.sort()\r\n",
    "df['openAcc_per'] = 0\r\n",
    "for i in range(len(openAcc_per)):\r\n",
    "    if i == 0:\r\n",
    "        df.loc[df['openAcc']<=openAcc_per[0],'openAcc_per'] = 0\r\n",
    "    else:\r\n",
    "        df.loc[(df['openAcc']<=openAcc_per[i])&(df['openAcc']>openAcc_per[i-1]),'openAcc_per'] = i"
   ]
  },
  {
   "cell_type": "code",
   "execution_count": 13,
   "metadata": {
    "collapsed": false
   },
   "outputs": [],
   "source": [
    "revolBal_per = list(set([np.percentile(df['revolBal'],i) for i in range(0,101)]))\r\n",
    "revolBal_per.sort()\r\n",
    "df['revolBal_per'] = 0\r\n",
    "for i in range(len(revolBal_per)):\r\n",
    "    if i == 0:\r\n",
    "        df.loc[df['revolBal']<=revolBal_per[0],'revolBal_per'] = 0\r\n",
    "    else:\r\n",
    "        df.loc[(df['revolBal']<=revolBal_per[i])&(df['revolBal']>revolBal_per[i-1]),'revolBal_per'] = i"
   ]
  },
  {
   "cell_type": "code",
   "execution_count": 14,
   "metadata": {
    "collapsed": false
   },
   "outputs": [],
   "source": [
    "df['revolUtil'].fillna(df['revolUtil'].median(),inplace=True)\r\n",
    "revolUtil_per = list(set([np.percentile(df['revolUtil'],i) for i in range(0,101)]))\r\n",
    "revolUtil_per.sort()\r\n",
    "df['revolUtil_per'] = 0\r\n",
    "for i in range(len(revolUtil_per)):\r\n",
    "    if i == 0:\r\n",
    "        df.loc[df['revolUtil']<=revolUtil_per[0],'revolUtil_per'] = 0\r\n",
    "    else:\r\n",
    "        df.loc[(df['revolUtil']<=revolUtil_per[i])&(df['revolUtil']>revolUtil_per[i-1]),'revolUtil_per'] = i"
   ]
  },
  {
   "cell_type": "code",
   "execution_count": 15,
   "metadata": {
    "collapsed": false
   },
   "outputs": [],
   "source": [
    "df['earliesCreditLine'] = pd.to_datetime(df['earliesCreditLine'])\r\n",
    "df['earliesCreditLine_year'] = df['earliesCreditLine'].dt.year\r\n",
    "df['earliesCreditLine_month'] = df['earliesCreditLine'].dt.month\r\n",
    "df['earliesCreditLine_time'] = (pd.to_datetime('2020-09-01')-df['earliesCreditLine']).dt.days"
   ]
  },
  {
   "cell_type": "code",
   "execution_count": 16,
   "metadata": {
    "collapsed": false
   },
   "outputs": [],
   "source": [
    "df['title'] = df['title'].fillna(-1)\r\n",
    "df['title_count'] = df['title'].map(df['title'].value_counts())\r\n",
    "df['title_filter'] = np.where(df['title_count']>1000000*0.03,df['title'],-1)"
   ]
  },
  {
   "cell_type": "code",
   "execution_count": null,
   "metadata": {
    "collapsed": false
   },
   "outputs": [],
   "source": [
    "for col in df.columns:\r\n",
    "    if col[0] == 'n':\r\n",
    "        df[col] = df[col].fillna(-1)"
   ]
  },
  {
   "cell_type": "code",
   "execution_count": 39,
   "metadata": {
    "collapsed": false
   },
   "outputs": [],
   "source": [
    "train = df.loc[df.is_train==1]\r\n",
    "testA = df.loc[df.is_train==0]"
   ]
  },
  {
   "cell_type": "markdown",
   "metadata": {
    "collapsed": false
   },
   "source": [
    "\t特征分箱，利用决策树"
   ]
  },
  {
   "cell_type": "code",
   "execution_count": 29,
   "metadata": {
    "collapsed": false
   },
   "outputs": [],
   "source": [
    "from fastiv import FastIV"
   ]
  },
  {
   "cell_type": "code",
   "execution_count": 54,
   "metadata": {
    "collapsed": false
   },
   "outputs": [],
   "source": [
    "fiv = FastIV(criterion=\"entropy\",\r\n",
    "             min_samples_leaf=50000,\r\n",
    "             max_leaf_nodes=30,\r\n",
    "             others_threshold=200)"
   ]
  },
  {
   "cell_type": "code",
   "execution_count": 59,
   "metadata": {
    "collapsed": false
   },
   "outputs": [],
   "source": [
    "def cut_feature(train,test,feature):\r\n",
    "    iv, iv_dict = fiv.fast_iv(train[[feature]],train['isDefault'])\r\n",
    "    train[feature+'_cut'] = fiv.transform(train[[feature]].values)\r\n",
    "    test[feature+'_cut'] = fiv.transform(test[[feature]].values)\r\n",
    "    rank = train.groupby([feature+'_cut'])[feature].mean().rank()\r\n",
    "    train[feature+'_cut'] = train[feature+'_cut'].map(rank)\r\n",
    "    test[feature+'_cut'] = test[feature+'_cut'].map(rank)\r\n",
    "    return train,test"
   ]
  },
  {
   "cell_type": "code",
   "execution_count": 62,
   "metadata": {
    "collapsed": false
   },
   "outputs": [],
   "source": [
    "need_cut_feature = ['annualIncome',  'delinquency_2years', 'dti',\r\n",
    "       'earliesCreditLine', 'employmentLength', 'employmentTitle',\r\n",
    "       'ficoRangeHigh', 'homeOwnership','installment', 'interestRate', \r\n",
    "        'loanAmnt', 'n0', 'n1', 'n10', 'n11', 'n12','n13', 'n14', 'n2', 'n2.1', 'n2.2', 'n2.3', 'n4', 'n5', 'n6', 'n7',\r\n",
    "       'n8', 'n9','postCode_count', 'regionCode_count','annualIncome_per', 'revolBal_per', 'revolUtil_per', 'title_count',\r\n",
    "       'employmentTitle_count', 'annualIncome_log', 'annualIncome_rank']"
   ]
  },
  {
   "cell_type": "code",
   "execution_count": 61,
   "metadata": {
    "collapsed": false
   },
   "outputs": [],
   "source": [
    "for col in need_cut_feature:\r\n",
    "    train,testA = cut_feature(train,testA,col)"
   ]
  },
  {
   "cell_type": "markdown",
   "metadata": {
    "collapsed": false
   },
   "source": [
    "\t特征评价过滤，使用互信息，因为特征都已经分箱好了，所以计算很很迅速"
   ]
  },
  {
   "cell_type": "code",
   "execution_count": 18,
   "metadata": {
    "collapsed": false
   },
   "outputs": [],
   "source": [
    "from sklearn.metrics import mutual_info_score\r\n",
    "from sklearn.feature_selection import mutual_info_classif"
   ]
  },
  {
   "cell_type": "code",
   "execution_count": 24,
   "metadata": {
    "collapsed": false
   },
   "outputs": [],
   "source": [
    "def mi(fe1,fe2):\r\n",
    "    return mutual_info_score(fe1,fe2)/np.log2(np.min([fe1.nunique(),fe2.nunique()]))"
   ]
  },
  {
   "cell_type": "code",
   "execution_count": 26,
   "metadata": {
    "collapsed": false
   },
   "outputs": [],
   "source": [
    "result = {}\r\n",
    "for col in need_cut_feature:\r\n",
    "    result{col} = mi(col,'isDefault')"
   ]
  },
  {
   "cell_type": "markdown",
   "metadata": {
    "collapsed": false
   },
   "source": [
    "\t因为最近比较繁忙的缘故写的不怎么好，特征工程确实是最为重要的部分，还需努力"
   ]
  },
  {
   "cell_type": "code",
   "execution_count": null,
   "metadata": {
    "collapsed": false
   },
   "outputs": [],
   "source": []
  },
  {
   "cell_type": "code",
   "execution_count": null,
   "metadata": {
    "collapsed": false
   },
   "outputs": [],
   "source": []
  },
  {
   "cell_type": "code",
   "execution_count": null,
   "metadata": {
    "collapsed": false
   },
   "outputs": [],
   "source": []
  },
  {
   "cell_type": "code",
   "execution_count": null,
   "metadata": {
    "collapsed": false
   },
   "outputs": [],
   "source": []
  },
  {
   "cell_type": "code",
   "execution_count": null,
   "metadata": {
    "collapsed": false
   },
   "outputs": [],
   "source": []
  },
  {
   "cell_type": "code",
   "execution_count": null,
   "metadata": {
    "collapsed": false
   },
   "outputs": [],
   "source": []
  },
  {
   "cell_type": "code",
   "execution_count": null,
   "metadata": {
    "collapsed": false
   },
   "outputs": [],
   "source": []
  }
 ],
 "metadata": {
  "kernelspec": {
   "display_name": "PaddlePaddle 1.8.4 (Python 3.5)",
   "language": "python",
   "name": "py35-paddle1.2.0"
  },
  "language_info": {
   "codemirror_mode": {
    "name": "ipython",
    "version": 3
   },
   "file_extension": ".py",
   "mimetype": "text/x-python",
   "name": "python",
   "nbconvert_exporter": "python",
   "pygments_lexer": "ipython3",
   "version": "3.7.4"
  }
 },
 "nbformat": 4,
 "nbformat_minor": 1
}
